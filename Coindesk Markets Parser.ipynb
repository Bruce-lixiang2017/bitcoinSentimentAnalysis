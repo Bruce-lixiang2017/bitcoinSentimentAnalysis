{
 "cells": [
  {
   "cell_type": "code",
   "execution_count": 14,
   "metadata": {
    "collapsed": true
   },
   "outputs": [],
   "source": [
    "import requests\n",
    "from datetime import datetime\n",
    "from bs4 import BeautifulSoup\n",
    "import nltk, re, string\n",
    "from nltk.corpus import stopwords\n",
    "import numpy as np\n",
    "import pandas as pd\n",
    "from nltk.stem import WordNetLemmatizer \n",
    "from nltk.corpus import wordnet\n",
    "wordnet_lemmatizer = WordNetLemmatizer()\n",
    "\n",
    "def coindesk_market_parser():\n",
    "    headlines=[]\n",
    "\n",
    "    page_url= \"https://www.coindesk.com/category/markets-news/markets-markets-news/markets-bitcoin/\"\n",
    "\n",
    "    while page_url!=None:\n",
    "        page = requests.get(page_url) \n",
    "\n",
    "        if page.status_code!=200:\n",
    "             page_url=None\n",
    "        else:\n",
    "            all_data = []\n",
    "            for num in range(1,20):\n",
    "                page_url = \"https://www.coindesk.com/category/markets-news/markets-markets-news/markets-bitcoin/page/\"+str(num)+\"/\"\n",
    "                page = requests.get(page_url)\n",
    "                soup = BeautifulSoup(page.content, \"html.parser\")\n",
    "                titles = soup.find_all(\"a\", class_ = \"fade\")\n",
    "                titles_dictionary = []\n",
    "                for i in titles:\n",
    "                    title = i.get_text().lower()\n",
    "                    titles_dictionary.append(lemmatize(title))\n",
    "                dates = soup.find_all(\"time\")\n",
    "                dates_list = []\n",
    "                for i in dates:\n",
    "                    date = i.get_text().lower()\n",
    "                    date = date.replace(' at', '')\n",
    "                    date = datetime.strptime(date, '%b %d, %Y %H:%M')\n",
    "                    date = datetime.strftime(date,'%b-%d-%Y')\n",
    "                    dates_list.append(date)\n",
    "                data = zip(titles_dictionary,dates_list)  \n",
    "                all_data.extend(data)\n",
    "\n",
    "        page_url = None\n",
    "    return all_data\n",
    "\n",
    "# data_frame = pd.DataFrame.from_records(all_data, columns = [\"Tokenized Title\",\"Date\"])\n",
    "# data_frame.to_csv(\"coindesk_markets.csv\", encoding='utf-8')"
   ]
  },
  {
   "cell_type": "code",
   "execution_count": null,
   "metadata": {
    "collapsed": true
   },
   "outputs": [],
   "source": []
  }
 ],
 "metadata": {
  "kernelspec": {
   "display_name": "Python 2",
   "language": "python",
   "name": "python2"
  },
  "language_info": {
   "codemirror_mode": {
    "name": "ipython",
    "version": 2
   },
   "file_extension": ".py",
   "mimetype": "text/x-python",
   "name": "python",
   "nbconvert_exporter": "python",
   "pygments_lexer": "ipython2",
   "version": "2.7.13"
  }
 },
 "nbformat": 4,
 "nbformat_minor": 2
}
